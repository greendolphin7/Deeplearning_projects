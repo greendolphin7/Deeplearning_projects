{
 "cells": [
  {
   "cell_type": "code",
   "execution_count": 21,
   "metadata": {},
   "outputs": [],
   "source": [
    "import tensorflow as tf\n",
    "import numpy as np\n",
    "\n",
    "from tensorflow import keras\n",
    "from tensorflow.keras.layers import Dense, Dropout\n",
    "from tensorflow.keras.models import Sequential\n",
    "\n",
    "from keras import datasets\n",
    "from keras.utils import np_utils\n",
    "\n",
    "import matplotlib.pyplot as plt"
   ]
  },
  {
   "cell_type": "code",
   "execution_count": 27,
   "metadata": {},
   "outputs": [],
   "source": [
    "def Data_func():\n",
    "    (X_train, y_train), (X_test, y_test) = datasets.cifar10.load_data()\n",
    "    \n",
    "    Y_train = np_utils.to_categorical(y_train)\n",
    "    Y_test = np_utils.to_categorical(y_test)\n",
    "    \n",
    "    L, W, H, C = X_train.shape\n",
    "    X_train = X_train.reshape(-1, W * H * C)\n",
    "    X_test = X_test.reshape(-1, W * H * C)\n",
    "    \n",
    "    X_train = X_train / 255.0\n",
    "    X_test = X_test / 255.0\n",
    "    \n",
    "    return (X_train, Y_train), (X_test, Y_test)"
   ]
  },
  {
   "cell_type": "code",
   "execution_count": 28,
   "metadata": {},
   "outputs": [],
   "source": [
    "class DNN(Sequential):\n",
    "    def __init__(self, Nin, Nh_1, Pd_1, Nout):\n",
    "        super().__init__()\n",
    "        \n",
    "        self.add(Dense(Nh_1[0], activation = 'relu',\n",
    "                input_shape = (Nin,), name = 'Hidden-1'))\n",
    "        self.add(Dropout(Pd_1[0]))\n",
    "        \n",
    "        self.add(Dense(Nh_1[1], activation = 'relu',\n",
    "                      name = 'Hidden-2'))\n",
    "        self.add(Dropout(Pd_1[1]))\n",
    "        \n",
    "        self.add(Dense(Nout, activation = 'softmax'))\n",
    "\n",
    "        self.compile(loss = 'categorical_crossentropy',\n",
    "                    optimizer = 'adam',\n",
    "                    metrics = ['accuracy'])"
   ]
  },
  {
   "cell_type": "code",
   "execution_count": 29,
   "metadata": {},
   "outputs": [],
   "source": [
    "Nh_1 = [100, 50]\n",
    "Pd_1 = [0.0, 0.0]\n",
    "number_of_class = 10\n",
    "Nout = number_of_class"
   ]
  },
  {
   "cell_type": "code",
   "execution_count": 32,
   "metadata": {},
   "outputs": [],
   "source": [
    "(X_train, Y_train), (X_test, Y_test) = Data_func()\n",
    "model = DNN(X_train.shape[1], Nh_1, Pd_1, Nout)"
   ]
  },
  {
   "cell_type": "code",
   "execution_count": 33,
   "metadata": {},
   "outputs": [
    {
     "name": "stdout",
     "output_type": "stream",
     "text": [
      "Train on 40000 samples, validate on 10000 samples\n",
      "Epoch 1/10\n",
      "40000/40000 [==============================] - 7s 187us/sample - loss: 1.9397 - accuracy: 0.2950 - val_loss: 1.8113 - val_accuracy: 0.3533\n",
      "Epoch 2/10\n",
      "40000/40000 [==============================] - 7s 164us/sample - loss: 1.7529 - accuracy: 0.3727 - val_loss: 1.7119 - val_accuracy: 0.3873\n",
      "Epoch 3/10\n",
      "40000/40000 [==============================] - 7s 167us/sample - loss: 1.6790 - accuracy: 0.4017 - val_loss: 1.7065 - val_accuracy: 0.3948\n",
      "Epoch 4/10\n",
      "40000/40000 [==============================] - 7s 165us/sample - loss: 1.6374 - accuracy: 0.4157 - val_loss: 1.7043 - val_accuracy: 0.3955\n",
      "Epoch 5/10\n",
      "40000/40000 [==============================] - 7s 169us/sample - loss: 1.6004 - accuracy: 0.4325 - val_loss: 1.6321 - val_accuracy: 0.4197\n",
      "Epoch 6/10\n",
      "40000/40000 [==============================] - 7s 169us/sample - loss: 1.5714 - accuracy: 0.4392 - val_loss: 1.6123 - val_accuracy: 0.4255\n",
      "Epoch 7/10\n",
      "40000/40000 [==============================] - 7s 186us/sample - loss: 1.5530 - accuracy: 0.4471 - val_loss: 1.6020 - val_accuracy: 0.4284\n",
      "Epoch 8/10\n",
      "40000/40000 [==============================] - 7s 184us/sample - loss: 1.5302 - accuracy: 0.4558 - val_loss: 1.5724 - val_accuracy: 0.4437\n",
      "Epoch 9/10\n",
      "40000/40000 [==============================] - 7s 184us/sample - loss: 1.5134 - accuracy: 0.4611 - val_loss: 1.6349 - val_accuracy: 0.4148\n",
      "Epoch 10/10\n",
      "40000/40000 [==============================] - 7s 174us/sample - loss: 1.4980 - accuracy: 0.4666 - val_loss: 1.5927 - val_accuracy: 0.4364\n",
      "10000/10000 [==============================] - 1s 84us/sample - loss: 1.5682 - accuracy: 0.4423\n",
      "Test loss and Accuracy -> [1.5682195687294007, 0.4423]\n"
     ]
    }
   ],
   "source": [
    "history = model.fit(X_train, Y_train, epochs = 10, batch_size = 100,\n",
    "                   validation_split = 0.2)\n",
    "\n",
    "performance_test = model.evaluate(X_test, Y_test, batch_size = 100)\n",
    "print('Test loss and Accuracy ->', performance_test)"
   ]
  },
  {
   "cell_type": "code",
   "execution_count": null,
   "metadata": {},
   "outputs": [],
   "source": []
  }
 ],
 "metadata": {
  "kernelspec": {
   "display_name": "Python 3",
   "language": "python",
   "name": "python3"
  },
  "language_info": {
   "codemirror_mode": {
    "name": "ipython",
    "version": 3
   },
   "file_extension": ".py",
   "mimetype": "text/x-python",
   "name": "python",
   "nbconvert_exporter": "python",
   "pygments_lexer": "ipython3",
   "version": "3.6.8"
  }
 },
 "nbformat": 4,
 "nbformat_minor": 2
}
