{
 "cells": [
  {
   "cell_type": "code",
   "execution_count": 35,
   "metadata": {},
   "outputs": [],
   "source": [
    "import tensorflow as tf\n",
    "\n",
    "import os, shutil\n",
    "import numpy as np\n",
    "import matplotlib.pyplot as plt\n",
    "\n",
    "from tensorflow.keras.layers import Conv2D, MaxPooling2D, Flatten, Dense\n",
    "from tensorflow.keras.models import Sequential\n",
    "from tensorflow.keras.optimizers import RMSprop\n",
    "\n",
    "from tensorflow.keras.preprocessing.image import ImageDataGenerator"
   ]
  },
  {
   "cell_type": "code",
   "execution_count": 39,
   "metadata": {},
   "outputs": [],
   "source": [
    "original_datasets_dir = 'C:/Users/clubc/Desktop/datasets/cat_vs_dog/train/' # 데이터 기본 주소\n",
    "\n",
    "base_dir_cat_dog = 'cats_vs_dogs_small' \n",
    "os.mkdir(base_dir_cat_dog)\n",
    "\n",
    "train_dir = os.path.join(base_dir_cat_dog, 'train')\n",
    "os.mkdir(train_dir)\n",
    "\n",
    "validation_dir = os.path.join(base_dir_cat_dog, 'validation')\n",
    "os.mkdir(validation_dir)\n",
    "\n",
    "test_dir = os.path.join(base_dir_cat_dog, 'test')\n",
    "os.mkdir(test_dir)"
   ]
  },
  {
   "cell_type": "code",
   "execution_count": 40,
   "metadata": {},
   "outputs": [],
   "source": [
    "# 데이터들 주소, 디렉토리 생성\n",
    "\n",
    "train_cats_dir = os.path.join(train_dir, 'cat')\n",
    "os.mkdir(train_cats_dir)\n",
    "\n",
    "train_dogs_dir = os.path.join(train_dir, 'dog')\n",
    "os.mkdir(train_dogs_dir)\n",
    "\n",
    "validation_cats_dir = os.path.join(validation_dir, 'cat')\n",
    "os.mkdir(validation_cats_dir)\n",
    "\n",
    "validation_dogs_dir = os.path.join(validation_dir, 'dog')\n",
    "os.mkdir(validation_dogs_dir)\n",
    "\n",
    "test_cats_dir = os.path.join(test_dir, 'cat')\n",
    "os.mkdir(test_cats_dir)\n",
    "\n",
    "test_dogs_dir = os.path.join(test_dir, 'dog')\n",
    "os.mkdir(test_dogs_dir)"
   ]
  },
  {
   "cell_type": "code",
   "execution_count": 41,
   "metadata": {},
   "outputs": [],
   "source": [
    "# 고양이 사진 1 ~ 1000번 까지 복사해서 해당 디렉토리에 넣기\n",
    "\n",
    "fnames = ['cat.{}.jpg'.format(i) for i in range(1000)]\n",
    "\n",
    "for fname in fnames:\n",
    "    src = os.path.join('C:/Users/clubc/Desktop/datasets/cat_vs_dog/train/train/cat', fname) #위치\n",
    "    dst = os.path.join(train_cats_dir, fname) #목적지\n",
    "    shutil.copyfile(src, dst)"
   ]
  },
  {
   "cell_type": "code",
   "execution_count": 42,
   "metadata": {},
   "outputs": [],
   "source": [
    "# 고양이 사진 1000 ~ 1500번 까지 복사해서 해당 디렉토리에 넣기\n",
    "\n",
    "fnames = ['cat.{}.jpg'.format(i) for i in range(1000, 1500)]\n",
    "\n",
    "for fname in fnames:\n",
    "    src = os.path.join('C:/Users/clubc/Desktop/datasets/cat_vs_dog/train/train/cat', fname)\n",
    "    dst = os.path.join(validation_cats_dir, fname)\n",
    "    shutil.copyfile(src, dst)"
   ]
  },
  {
   "cell_type": "code",
   "execution_count": 43,
   "metadata": {},
   "outputs": [],
   "source": [
    "# 고양이 사진 1500 ~ 2000번 까지 복사해서 해당 디렉토리에 넣기\n",
    "\n",
    "fnames = ['cat.{}.jpg'.format(i) for i in range(1500, 2000)]\n",
    "\n",
    "for fname in fnames:\n",
    "    src = os.path.join('C:/Users/clubc/Desktop/datasets/cat_vs_dog/train/train/cat', fname)\n",
    "    dst = os.path.join(test_cats_dir, fname)\n",
    "    shutil.copyfile(src, dst)"
   ]
  },
  {
   "cell_type": "code",
   "execution_count": 44,
   "metadata": {},
   "outputs": [],
   "source": [
    "# 강아지 사진 1 ~ 1000번 까지 복사해서 해당 디렉토리에 넣기\n",
    "\n",
    "fnames = ['dog.{}.jpg'.format(i) for i in range(1000)]\n",
    "\n",
    "for fname in fnames:\n",
    "    src = os.path.join('C:/Users/clubc/Desktop/datasets/cat_vs_dog/train/train/dog', fname)\n",
    "    dst = os.path.join(train_dogs_dir, fname)\n",
    "    shutil.copyfile(src, dst)"
   ]
  },
  {
   "cell_type": "code",
   "execution_count": 45,
   "metadata": {},
   "outputs": [],
   "source": [
    "# 강아지 사진 1000 ~ 1500번 까지 복사해서 해당 디렉토리에 넣기\n",
    "\n",
    "fnames = ['dog.{}.jpg'.format(i) for i in range(1000, 1500)]\n",
    "\n",
    "for fname in fnames:\n",
    "    src = os.path.join('C:/Users/clubc/Desktop/datasets/cat_vs_dog/train/train/dog', fname)\n",
    "    dst = os.path.join(validation_dogs_dir, fname)\n",
    "    shutil.copyfile(src, dst)"
   ]
  },
  {
   "cell_type": "code",
   "execution_count": 46,
   "metadata": {},
   "outputs": [],
   "source": [
    "# 강아지 사진 1500 ~ 2000번 까지 복사해서 해당 디렉토리에 넣기\n",
    "\n",
    "fnames = ['dog.{}.jpg'.format(i) for i in range(1500, 2000)]\n",
    "\n",
    "for fname in fnames:\n",
    "    src = os.path.join('C:/Users/clubc/Desktop/datasets/cat_vs_dog/train/train/dog', fname)\n",
    "    dst = os.path.join(test_dogs_dir, fname)\n",
    "    shutil.copyfile(src, dst)"
   ]
  },
  {
   "cell_type": "code",
   "execution_count": 47,
   "metadata": {},
   "outputs": [],
   "source": [
    "# 모델 구성\n",
    "\n",
    "model = Sequential()\n",
    "model.add(Conv2D(32, (3, 3), activation = 'relu',\n",
    "                input_shape = (150, 150, 3)))\n",
    "model.add(MaxPooling2D((2, 2)))\n",
    "\n",
    "model.add(Conv2D(64, (3, 3), activation = 'relu'))\n",
    "model.add(MaxPooling2D((2, 2)))\n",
    "\n",
    "model.add(Conv2D(128, (3, 3), activation = 'relu'))\n",
    "model.add(MaxPooling2D((2, 2)))\n",
    "\n",
    "model.add(Conv2D(128, (3, 3), activation = 'relu'))\n",
    "model.add(MaxPooling2D((2, 2)))\n",
    "\n",
    "model.add(Flatten())\n",
    "model.add(Dense(512, activation = 'relu'))\n",
    "model.add(Dense(1, activation = 'sigmoid'))"
   ]
  },
  {
   "cell_type": "code",
   "execution_count": 48,
   "metadata": {},
   "outputs": [],
   "source": [
    "model.compile(loss = 'binary_crossentropy', \n",
    "             optimizer = RMSprop(lr = 0.0001),\n",
    "             metrics = ['acc'])"
   ]
  },
  {
   "cell_type": "code",
   "execution_count": 49,
   "metadata": {},
   "outputs": [
    {
     "name": "stdout",
     "output_type": "stream",
     "text": [
      "Found 2000 images belonging to 2 classes.\n",
      "Found 1000 images belonging to 2 classes.\n"
     ]
    }
   ],
   "source": [
    "train_datagen = ImageDataGenerator(rescale = 1./255)\n",
    "test_datagen = ImageDataGenerator(rescale = 1./255)\n",
    "\n",
    "train_generator = train_datagen.flow_from_directory(\n",
    "        train_dir,\n",
    "        target_size = (150, 150),\n",
    "        batch_size = 20,\n",
    "        class_mode = 'binary')\n",
    "\n",
    "validation_generator = test_datagen.flow_from_directory(\n",
    "        validation_dir,\n",
    "        target_size = (150, 150),\n",
    "        batch_size = 20,\n",
    "        class_mode = 'binary')"
   ]
  },
  {
   "cell_type": "code",
   "execution_count": 50,
   "metadata": {},
   "outputs": [
    {
     "name": "stdout",
     "output_type": "stream",
     "text": [
      "Epoch 1/30\n",
      "100/100 [==============================] - 67s 669ms/step - loss: 0.6877 - acc: 0.5470 - val_loss: 0.6601 - val_acc: 0.6210\n",
      "Epoch 2/30\n",
      "100/100 [==============================] - 68s 678ms/step - loss: 0.6479 - acc: 0.6270 - val_loss: 0.6660 - val_acc: 0.5490\n",
      "Epoch 3/30\n",
      "100/100 [==============================] - 69s 694ms/step - loss: 0.6012 - acc: 0.6705 - val_loss: 0.6005 - val_acc: 0.6630\n",
      "Epoch 4/30\n",
      "100/100 [==============================] - 70s 699ms/step - loss: 0.5651 - acc: 0.7000 - val_loss: 0.5862 - val_acc: 0.6810\n",
      "Epoch 5/30\n",
      "100/100 [==============================] - 70s 703ms/step - loss: 0.5353 - acc: 0.7215 - val_loss: 0.5740 - val_acc: 0.6800\n",
      "Epoch 6/30\n",
      "100/100 [==============================] - 70s 695ms/step - loss: 0.5040 - acc: 0.7530 - val_loss: 0.5645 - val_acc: 0.6950\n",
      "Epoch 7/30\n",
      "100/100 [==============================] - 70s 699ms/step - loss: 0.4883 - acc: 0.7585 - val_loss: 0.5841 - val_acc: 0.6840\n",
      "Epoch 8/30\n",
      "100/100 [==============================] - 71s 714ms/step - loss: 0.4641 - acc: 0.7830 - val_loss: 0.5673 - val_acc: 0.6960\n",
      "Epoch 9/30\n",
      "100/100 [==============================] - 70s 703ms/step - loss: 0.4326 - acc: 0.8005 - val_loss: 0.5543 - val_acc: 0.7110\n",
      "Epoch 10/30\n",
      "100/100 [==============================] - 78s 777ms/step - loss: 0.4072 - acc: 0.8170 - val_loss: 0.5543 - val_acc: 0.7130\n",
      "Epoch 11/30\n",
      "100/100 [==============================] - 88s 882ms/step - loss: 0.3876 - acc: 0.8240 - val_loss: 0.5360 - val_acc: 0.7290\n",
      "Epoch 12/30\n",
      "100/100 [==============================] - 78s 776ms/step - loss: 0.3646 - acc: 0.8405 - val_loss: 0.5467 - val_acc: 0.7220\n",
      "Epoch 13/30\n",
      "100/100 [==============================] - 70s 705ms/step - loss: 0.3399 - acc: 0.8585 - val_loss: 0.5476 - val_acc: 0.7200\n",
      "Epoch 14/30\n",
      "100/100 [==============================] - 74s 744ms/step - loss: 0.3159 - acc: 0.8655 - val_loss: 0.5505 - val_acc: 0.7370\n",
      "Epoch 15/30\n",
      "100/100 [==============================] - 91s 910ms/step - loss: 0.2945 - acc: 0.8720 - val_loss: 0.5584 - val_acc: 0.7360\n",
      "Epoch 16/30\n",
      "100/100 [==============================] - 83s 829ms/step - loss: 0.2763 - acc: 0.8890 - val_loss: 0.5663 - val_acc: 0.7340\n",
      "Epoch 17/30\n",
      "100/100 [==============================] - 84s 842ms/step - loss: 0.2466 - acc: 0.9065 - val_loss: 0.6190 - val_acc: 0.7200\n",
      "Epoch 18/30\n",
      "100/100 [==============================] - 82s 821ms/step - loss: 0.2235 - acc: 0.9145 - val_loss: 0.6162 - val_acc: 0.7280\n",
      "Epoch 19/30\n",
      "100/100 [==============================] - 86s 858ms/step - loss: 0.2040 - acc: 0.9225 - val_loss: 0.7240 - val_acc: 0.7110\n",
      "Epoch 20/30\n",
      "100/100 [==============================] - 79s 790ms/step - loss: 0.1950 - acc: 0.9315 - val_loss: 0.6300 - val_acc: 0.7260\n",
      "Epoch 21/30\n",
      "100/100 [==============================] - 83s 831ms/step - loss: 0.1654 - acc: 0.9440 - val_loss: 0.7269 - val_acc: 0.7290\n",
      "Epoch 22/30\n",
      "100/100 [==============================] - 80s 803ms/step - loss: 0.1430 - acc: 0.9505 - val_loss: 0.7054 - val_acc: 0.7200\n",
      "Epoch 23/30\n",
      "100/100 [==============================] - 90s 901ms/step - loss: 0.1267 - acc: 0.9590 - val_loss: 0.8387 - val_acc: 0.7100\n",
      "Epoch 24/30\n",
      "100/100 [==============================] - 80s 799ms/step - loss: 0.1218 - acc: 0.9580 - val_loss: 0.7126 - val_acc: 0.7190\n",
      "Epoch 25/30\n",
      "100/100 [==============================] - 74s 745ms/step - loss: 0.1029 - acc: 0.9730 - val_loss: 0.7336 - val_acc: 0.7260\n",
      "Epoch 26/30\n",
      "100/100 [==============================] - 78s 779ms/step - loss: 0.0825 - acc: 0.9845 - val_loss: 0.9477 - val_acc: 0.7310\n",
      "Epoch 27/30\n",
      "100/100 [==============================] - 78s 778ms/step - loss: 0.0757 - acc: 0.9805 - val_loss: 0.7988 - val_acc: 0.7250\n",
      "Epoch 28/30\n",
      "100/100 [==============================] - 77s 775ms/step - loss: 0.0615 - acc: 0.9845 - val_loss: 0.8728 - val_acc: 0.7300\n",
      "Epoch 29/30\n",
      "100/100 [==============================] - 78s 778ms/step - loss: 0.0506 - acc: 0.9910 - val_loss: 0.8519 - val_acc: 0.7350\n",
      "Epoch 30/30\n",
      "100/100 [==============================] - 78s 780ms/step - loss: 0.0460 - acc: 0.9910 - val_loss: 0.9579 - val_acc: 0.7250\n"
     ]
    }
   ],
   "source": [
    "history = model.fit_generator(\n",
    "        train_generator,\n",
    "        steps_per_epoch = 100,\n",
    "        epochs = 30,\n",
    "        validation_data = validation_generator,\n",
    "        validation_steps = 50)"
   ]
  },
  {
   "cell_type": "code",
   "execution_count": 51,
   "metadata": {},
   "outputs": [],
   "source": [
    "model.save('cats_and_dogs_small_1.h5') # 학습한거 h5 파일로 저장"
   ]
  },
  {
   "cell_type": "code",
   "execution_count": null,
   "metadata": {},
   "outputs": [],
   "source": []
  },
  {
   "cell_type": "code",
   "execution_count": null,
   "metadata": {},
   "outputs": [],
   "source": []
  }
 ],
 "metadata": {
  "kernelspec": {
   "display_name": "Python 3",
   "language": "python",
   "name": "python3"
  },
  "language_info": {
   "codemirror_mode": {
    "name": "ipython",
    "version": 3
   },
   "file_extension": ".py",
   "mimetype": "text/x-python",
   "name": "python",
   "nbconvert_exporter": "python",
   "pygments_lexer": "ipython3",
   "version": "3.6.8"
  }
 },
 "nbformat": 4,
 "nbformat_minor": 2
}
