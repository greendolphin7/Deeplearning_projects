{
 "cells": [
  {
   "cell_type": "code",
   "execution_count": 4,
   "metadata": {},
   "outputs": [
    {
     "name": "stderr",
     "output_type": "stream",
     "text": [
      "Using TensorFlow backend.\n"
     ]
    }
   ],
   "source": [
    "import tensorflow as tf\n",
    "import numpy as np\n",
    "import matplotlib.pyplot as plt\n",
    "\n",
    "from tensorflow import keras\n",
    "from tensorflow.keras.layers import Conv2D, Dense, MaxPooling2D, Flatten, Dropout\n",
    "from tensorflow.keras.models import Sequential\n",
    "from keras import datasets\n",
    "from keras import backend"
   ]
  },
  {
   "cell_type": "code",
   "execution_count": 8,
   "metadata": {},
   "outputs": [],
   "source": [
    "class CNN(Sequential):\n",
    "    def __init__(self, input_shape, num_classes):\n",
    "        super().__init__()\n",
    "        \n",
    "        self.add(Conv2D(32, kernel_size = (3, 3),\n",
    "                       activation = 'relu', input_shape = input_shape))\n",
    "        \n",
    "        self.add(Conv2D(64, (3, 3), activation = 'relu'))\n",
    "        self.add(MaxPooling2D(pool_size = (2, 2)))\n",
    "        self.add(Dropout(0.25))\n",
    "        self.add(Flatten())\n",
    "        self.add(Dense(128, activation = 'relu'))\n",
    "        self.add(Dropout(0.5))\n",
    "        self.add(Dense(num_classes, activation = 'softmax'))\n",
    "        \n",
    "        self.compile(loss = keras.losses.categorical_crossentropy,\n",
    "                    optimizer = 'adam',\n",
    "                    metrics = ['accuracy'])"
   ]
  },
  {
   "cell_type": "code",
   "execution_count": 9,
   "metadata": {},
   "outputs": [],
   "source": [
    "class DATA():\n",
    "    def __init__(self):\n",
    "        num_classes = 10\n",
    "        \n",
    "        (x_train, y_train), (x_test, y_test) = datasets.mnist.load_data()\n",
    "        img_rows, img_cols = x_train.shape[1:]\n",
    "        \n",
    "        if backend.image_data_format() == 'channel_first':\n",
    "            x_train = x_train.reshape(x_train.shape[0], 1,\n",
    "                                     img_rows, img_cols)\n",
    "            x_test = x_test.reshape(x_test.shape[0], 1,\n",
    "                                   img_rows, img_cols)\n",
    "            input_shape = (1, img_rows, img_cols)\n",
    "            \n",
    "        else:\n",
    "            x_train = x_train.reshape(x_train.shape[0], img_rows,\n",
    "                                    img_cols, 1)\n",
    "            x_test = x_test.reshape(x_test.shape[0], img_rows,\n",
    "                                   img_cols, 1)\n",
    "            input_shape = (img_rows, img_cols, 1)\n",
    "            \n",
    "        x_train = x_train.astype('float32')\n",
    "        x_test = x_test.astype('float32')\n",
    "        x_train /= 255\n",
    "        x_test /= 255\n",
    "        \n",
    "        y_train = keras.utils.to_categorical(y_train, num_classes)\n",
    "        y_test = keras.utils.to_categorical(y_test, num_classes)\n",
    "        \n",
    "        self.input_shape = input_shape\n",
    "        self.num_classes = num_classes\n",
    "        \n",
    "        self.x_train, self.y_train = x_train, y_train\n",
    "        self.x_test, self.y_test = x_test, y_test"
   ]
  },
  {
   "cell_type": "code",
   "execution_count": 10,
   "metadata": {},
   "outputs": [
    {
     "name": "stdout",
     "output_type": "stream",
     "text": [
      "Train on 48000 samples, validate on 12000 samples\n",
      "Epoch 1/10\n",
      "48000/48000 [==============================] - 102s 2ms/sample - loss: 0.2534 - accuracy: 0.9219 - val_loss: 0.0651 - val_accuracy: 0.9811\n",
      "Epoch 2/10\n",
      "48000/48000 [==============================] - 91s 2ms/sample - loss: 0.0877 - accuracy: 0.9747 - val_loss: 0.0477 - val_accuracy: 0.9860\n",
      "Epoch 3/10\n",
      "48000/48000 [==============================] - 91s 2ms/sample - loss: 0.0658 - accuracy: 0.9796 - val_loss: 0.0389 - val_accuracy: 0.9884\n",
      "Epoch 4/10\n",
      "48000/48000 [==============================] - 91s 2ms/sample - loss: 0.0528 - accuracy: 0.9836 - val_loss: 0.0408 - val_accuracy: 0.9881\n",
      "Epoch 5/10\n",
      "48000/48000 [==============================] - 92s 2ms/sample - loss: 0.0473 - accuracy: 0.9848 - val_loss: 0.0406 - val_accuracy: 0.9884\n",
      "Epoch 6/10\n",
      "48000/48000 [==============================] - 92s 2ms/sample - loss: 0.0388 - accuracy: 0.9877 - val_loss: 0.0381 - val_accuracy: 0.9887\n",
      "Epoch 7/10\n",
      "48000/48000 [==============================] - 95s 2ms/sample - loss: 0.0359 - accuracy: 0.9880 - val_loss: 0.0386 - val_accuracy: 0.9893\n",
      "Epoch 8/10\n",
      "48000/48000 [==============================] - 93s 2ms/sample - loss: 0.0324 - accuracy: 0.9889 - val_loss: 0.0439 - val_accuracy: 0.9889\n",
      "Epoch 9/10\n",
      "48000/48000 [==============================] - 96s 2ms/sample - loss: 0.0287 - accuracy: 0.9905 - val_loss: 0.0356 - val_accuracy: 0.9902\n",
      "Epoch 10/10\n",
      "48000/48000 [==============================] - 92s 2ms/sample - loss: 0.0248 - accuracy: 0.9914 - val_loss: 0.0424 - val_accuracy: 0.9898\n",
      "10000/10000 [==============================] - 5s 495us/sample - loss: 0.0297 - accuracy: 0.9910\n",
      "\n",
      "Test loss: 0.02970805537570891\n",
      "Test accuracy: 0.991\n"
     ]
    }
   ],
   "source": [
    "def main():\n",
    "    batch_size = 128\n",
    "    epochs = 10\n",
    "    \n",
    "    data = DATA()\n",
    "    model = CNN(data.input_shape, data.num_classes)\n",
    "    \n",
    "    history = model.fit(data.x_train, data.y_train,\n",
    "                       batch_size = batch_size,\n",
    "                       epochs = epochs,\n",
    "                       validation_split = 0.2)\n",
    "    \n",
    "    score = model.evaluate(data.x_test, data.y_test)\n",
    "    \n",
    "    print()\n",
    "    print('Test loss:', score[0])\n",
    "    print('Test accuracy:', score[1])\n",
    "    \n",
    "if __name__ == '__main__':\n",
    "    main()"
   ]
  },
  {
   "cell_type": "code",
   "execution_count": null,
   "metadata": {},
   "outputs": [],
   "source": []
  },
  {
   "cell_type": "code",
   "execution_count": null,
   "metadata": {},
   "outputs": [],
   "source": []
  }
 ],
 "metadata": {
  "kernelspec": {
   "display_name": "Python 3",
   "language": "python",
   "name": "python3"
  },
  "language_info": {
   "codemirror_mode": {
    "name": "ipython",
    "version": 3
   },
   "file_extension": ".py",
   "mimetype": "text/x-python",
   "name": "python",
   "nbconvert_exporter": "python",
   "pygments_lexer": "ipython3",
   "version": "3.6.8"
  }
 },
 "nbformat": 4,
 "nbformat_minor": 2
}
